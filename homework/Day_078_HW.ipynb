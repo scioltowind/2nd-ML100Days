{
 "cells": [
  {
   "cell_type": "markdown",
   "metadata": {},
   "source": [
    "## Work\n",
    "1. 請嘗試將 preproc_x 替換成以每筆資料的 min/max 進行標準化至 -1 ~ 1 間，再進行訓練\n",
    "2. 請嘗試將 mlp 疊更深 (e.g 5~10 層)，進行訓練後觀察 learning curve 的走勢\n",
    "3. (optional) 請改用 GPU 進行訓練 (如果你有 GPU 的話)，比較使用 CPU 與 GPU 的訓練速度"
   ]
  },
  {
   "cell_type": "code",
   "execution_count": 1,
   "metadata": {},
   "outputs": [
    {
     "data": {
      "text/plain": [
       "'\\nYour code here (optional)\\n確認硬體資源\\n'"
      ]
     },
     "execution_count": 1,
     "metadata": {},
     "output_type": "execute_result"
    }
   ],
   "source": [
    "## \n",
    "\"\"\"\n",
    "Your code here (optional)\n",
    "確認硬體資源\n",
    "\"\"\"\n",
    "#nvidia-smi 指令僅適用於 mac 與 linux 作業系統, windows 無法執行該指令, 但不影響後續程式, 請無法執行的同學忽略即可"
   ]
  },
  {
   "cell_type": "code",
   "execution_count": 2,
   "metadata": {},
   "outputs": [
    {
     "name": "stderr",
     "output_type": "stream",
     "text": [
      "Using TensorFlow backend.\n"
     ]
    }
   ],
   "source": [
    "import numpy as np\n",
    "import pandas as pd\n",
    "import os\n",
    "import keras\n",
    "\n",
    "# 請嘗試設定 GPU：os.environ\n",
    "os.environ[\"CUDA_VISIBLE_DEVICES\"] = \"\""
   ]
  },
  {
   "cell_type": "code",
   "execution_count": 3,
   "metadata": {},
   "outputs": [],
   "source": [
    "\n",
    "# 從 Keras 的內建資料集中，取得 train 與 test 資料集\n",
    "train, test = keras.datasets.cifar10.load_data( )"
   ]
  },
  {
   "cell_type": "code",
   "execution_count": 4,
   "metadata": {},
   "outputs": [],
   "source": [
    "## 資料前處理\n",
    "\"\"\"\n",
    "Your code here\n",
    "\"\"\"\n",
    "def preproc_x(x, flatten=True):\n",
    "    x =  (x - x.min()) / (x.max() - x.min())  \n",
    "    \n",
    "    if flatten:\n",
    "        x = x.reshape(len(x), -1)\n",
    "    return x\n",
    "\n",
    "# OneHot Encoding\n",
    "def preproc_y( y, num_classes = 10 ) :\n",
    "    if y.shape[ -1 ] == 1 :\n",
    "        y = keras.utils.to_categorical( y, num_classes )\n",
    "    return y"
   ]
  },
  {
   "cell_type": "code",
   "execution_count": 5,
   "metadata": {},
   "outputs": [],
   "source": [
    "x_train, y_train = train\n",
    "x_test, y_test = test"
   ]
  },
  {
   "cell_type": "code",
   "execution_count": 6,
   "metadata": {},
   "outputs": [],
   "source": [
    "\n",
    "# Preproc the inputs\n",
    "x_train = preproc_x(x_train)\n",
    "x_test = preproc_x(x_test)\n",
    "\n",
    "# Preprc the outputs\n",
    "y_train = preproc_y(y_train)\n",
    "y_test = preproc_y(y_test)\n",
    "\n"
   ]
  },
  {
   "cell_type": "code",
   "execution_count": 7,
   "metadata": {},
   "outputs": [],
   "source": [
    "\"\"\"Code Here\n",
    "建立你的神經網路\n",
    "\"\"\"\n",
    "def build_mlp(input_shape, output_units=10, num_neurons=[512, 256, 256, 128]):\n",
    "    input_layer = keras.layers.Input(input_shape)\n",
    "    \n",
    "    for i, n_units in enumerate(num_neurons):\n",
    "        if i == 0:\n",
    "            x = keras.layers.Dense(units=n_units, activation=\"relu\", name=\"hidden_layer\"+str(i+1))(input_layer)\n",
    "        else:\n",
    "            x = keras.layers.Dense(units=n_units, activation=\"relu\", name=\"hidden_layer\"+str(i+1))(x)\n",
    "    \n",
    "    out = keras.layers.Dense(units=output_units, activation=\"softmax\", name=\"output\")(x)\n",
    "    \n",
    "    model = keras.models.Model(inputs=[input_layer], outputs=[out])\n",
    "    return model\n"
   ]
  },
  {
   "cell_type": "code",
   "execution_count": 8,
   "metadata": {},
   "outputs": [
    {
     "name": "stderr",
     "output_type": "stream",
     "text": [
      "WARNING: Logging before flag parsing goes to stderr.\n",
      "W0716 18:50:17.059117  4244 deprecation_wrapper.py:119] From C:\\Anaconda3\\lib\\site-packages\\keras\\backend\\tensorflow_backend.py:74: The name tf.get_default_graph is deprecated. Please use tf.compat.v1.get_default_graph instead.\n",
      "\n",
      "W0716 18:50:17.332118  4244 deprecation_wrapper.py:119] From C:\\Anaconda3\\lib\\site-packages\\keras\\backend\\tensorflow_backend.py:517: The name tf.placeholder is deprecated. Please use tf.compat.v1.placeholder instead.\n",
      "\n",
      "W0716 18:50:17.388141  4244 deprecation_wrapper.py:119] From C:\\Anaconda3\\lib\\site-packages\\keras\\backend\\tensorflow_backend.py:4138: The name tf.random_uniform is deprecated. Please use tf.random.uniform instead.\n",
      "\n"
     ]
    },
    {
     "name": "stdout",
     "output_type": "stream",
     "text": [
      "_________________________________________________________________\n",
      "Layer (type)                 Output Shape              Param #   \n",
      "=================================================================\n",
      "input_1 (InputLayer)         (None, 3072)              0         \n",
      "_________________________________________________________________\n",
      "hidden_layer1 (Dense)        (None, 512)               1573376   \n",
      "_________________________________________________________________\n",
      "hidden_layer2 (Dense)        (None, 256)               131328    \n",
      "_________________________________________________________________\n",
      "hidden_layer3 (Dense)        (None, 256)               65792     \n",
      "_________________________________________________________________\n",
      "hidden_layer4 (Dense)        (None, 128)               32896     \n",
      "_________________________________________________________________\n",
      "output (Dense)               (None, 10)                1290      \n",
      "=================================================================\n",
      "Total params: 1,804,682\n",
      "Trainable params: 1,804,682\n",
      "Non-trainable params: 0\n",
      "_________________________________________________________________\n"
     ]
    }
   ],
   "source": [
    "model = build_mlp(input_shape=x_train.shape[1:])\n",
    "model.summary()"
   ]
  },
  {
   "cell_type": "code",
   "execution_count": 9,
   "metadata": {},
   "outputs": [],
   "source": [
    "## 超參數設定\n",
    "LEARNING_RATE = 0.001\n",
    "EPOCHS = 100\n",
    "BATCH_SIZE = 256"
   ]
  },
  {
   "cell_type": "code",
   "execution_count": 10,
   "metadata": {},
   "outputs": [
    {
     "name": "stderr",
     "output_type": "stream",
     "text": [
      "W0716 18:50:17.641680  4244 deprecation_wrapper.py:119] From C:\\Anaconda3\\lib\\site-packages\\keras\\optimizers.py:790: The name tf.train.Optimizer is deprecated. Please use tf.compat.v1.train.Optimizer instead.\n",
      "\n",
      "W0716 18:50:17.658313  4244 deprecation_wrapper.py:119] From C:\\Anaconda3\\lib\\site-packages\\keras\\backend\\tensorflow_backend.py:3295: The name tf.log is deprecated. Please use tf.math.log instead.\n",
      "\n"
     ]
    }
   ],
   "source": [
    "optimizer = keras.optimizers.Adam(lr=LEARNING_RATE)\n",
    "model.compile(loss=\"categorical_crossentropy\", metrics=[\"accuracy\"], optimizer=optimizer)"
   ]
  },
  {
   "cell_type": "code",
   "execution_count": 11,
   "metadata": {},
   "outputs": [
    {
     "name": "stderr",
     "output_type": "stream",
     "text": [
      "W0716 18:50:17.827001  4244 deprecation.py:323] From C:\\Anaconda3\\lib\\site-packages\\tensorflow\\python\\ops\\math_grad.py:1250: add_dispatch_support.<locals>.wrapper (from tensorflow.python.ops.array_ops) is deprecated and will be removed in a future version.\n",
      "Instructions for updating:\n",
      "Use tf.where in 2.0, which has the same broadcast rule as np.where\n",
      "W0716 18:50:17.900627  4244 deprecation_wrapper.py:119] From C:\\Anaconda3\\lib\\site-packages\\keras\\backend\\tensorflow_backend.py:986: The name tf.assign_add is deprecated. Please use tf.compat.v1.assign_add instead.\n",
      "\n"
     ]
    },
    {
     "name": "stdout",
     "output_type": "stream",
     "text": [
      "Train on 50000 samples, validate on 10000 samples\n",
      "Epoch 1/100\n",
      "50000/50000 [==============================] - 19s 385us/step - loss: 1.9152 - acc: 0.3041 - val_loss: 1.7876 - val_acc: 0.3624\n",
      "Epoch 2/100\n",
      "50000/50000 [==============================] - 15s 292us/step - loss: 1.6988 - acc: 0.3909 - val_loss: 1.6272 - val_acc: 0.4208\n",
      "Epoch 3/100\n",
      "50000/50000 [==============================] - 15s 296us/step - loss: 1.5899 - acc: 0.4303 - val_loss: 1.5803 - val_acc: 0.4327\n",
      "Epoch 4/100\n",
      "50000/50000 [==============================] - 15s 304us/step - loss: 1.5402 - acc: 0.4504 - val_loss: 1.5211 - val_acc: 0.4609\n",
      "Epoch 5/100\n",
      "50000/50000 [==============================] - 16s 310us/step - loss: 1.4779 - acc: 0.4724 - val_loss: 1.5501 - val_acc: 0.4583\n",
      "Epoch 6/100\n",
      "50000/50000 [==============================] - 15s 297us/step - loss: 1.4574 - acc: 0.4778 - val_loss: 1.4553 - val_acc: 0.4842\n",
      "Epoch 7/100\n",
      "50000/50000 [==============================] - 15s 304us/step - loss: 1.4127 - acc: 0.4957 - val_loss: 1.4421 - val_acc: 0.4804\n",
      "Epoch 8/100\n",
      "50000/50000 [==============================] - 17s 346us/step - loss: 1.3804 - acc: 0.5072 - val_loss: 1.4066 - val_acc: 0.5015\n",
      "Epoch 9/100\n",
      "50000/50000 [==============================] - 16s 330us/step - loss: 1.3459 - acc: 0.5188 - val_loss: 1.4209 - val_acc: 0.4962\n",
      "Epoch 10/100\n",
      "50000/50000 [==============================] - 15s 302us/step - loss: 1.3161 - acc: 0.5300 - val_loss: 1.4296 - val_acc: 0.4940\n",
      "Epoch 11/100\n",
      "50000/50000 [==============================] - 15s 308us/step - loss: 1.2963 - acc: 0.5357 - val_loss: 1.4423 - val_acc: 0.4839\n",
      "Epoch 12/100\n",
      "50000/50000 [==============================] - 15s 302us/step - loss: 1.2658 - acc: 0.5468 - val_loss: 1.3794 - val_acc: 0.5115\n",
      "Epoch 13/100\n",
      "50000/50000 [==============================] - 15s 307us/step - loss: 1.2414 - acc: 0.5571 - val_loss: 1.3864 - val_acc: 0.5096\n",
      "Epoch 14/100\n",
      "50000/50000 [==============================] - 17s 334us/step - loss: 1.2159 - acc: 0.5660 - val_loss: 1.4558 - val_acc: 0.4943\n",
      "Epoch 15/100\n",
      "50000/50000 [==============================] - 15s 303us/step - loss: 1.1920 - acc: 0.5743 - val_loss: 1.3759 - val_acc: 0.5191\n",
      "Epoch 16/100\n",
      "50000/50000 [==============================] - 16s 319us/step - loss: 1.1608 - acc: 0.5828 - val_loss: 1.3757 - val_acc: 0.5167\n",
      "Epoch 17/100\n",
      "50000/50000 [==============================] - 15s 308us/step - loss: 1.1354 - acc: 0.5918 - val_loss: 1.3976 - val_acc: 0.5192\n",
      "Epoch 18/100\n",
      "50000/50000 [==============================] - 15s 302us/step - loss: 1.1090 - acc: 0.6008 - val_loss: 1.3858 - val_acc: 0.5271\n",
      "Epoch 19/100\n",
      "50000/50000 [==============================] - 16s 312us/step - loss: 1.0822 - acc: 0.6090 - val_loss: 1.3848 - val_acc: 0.5193\n",
      "Epoch 20/100\n",
      "50000/50000 [==============================] - 15s 307us/step - loss: 1.0657 - acc: 0.6165 - val_loss: 1.3889 - val_acc: 0.5200\n",
      "Epoch 21/100\n",
      "50000/50000 [==============================] - 15s 302us/step - loss: 1.0300 - acc: 0.6309 - val_loss: 1.4215 - val_acc: 0.5164\n",
      "Epoch 22/100\n",
      "50000/50000 [==============================] - 15s 307us/step - loss: 1.0057 - acc: 0.6387 - val_loss: 1.4337 - val_acc: 0.5226\n",
      "Epoch 23/100\n",
      "50000/50000 [==============================] - 15s 303us/step - loss: 0.9838 - acc: 0.6463 - val_loss: 1.4292 - val_acc: 0.5230\n",
      "Epoch 24/100\n",
      "50000/50000 [==============================] - 15s 303us/step - loss: 0.9630 - acc: 0.6546 - val_loss: 1.4468 - val_acc: 0.5204\n",
      "Epoch 25/100\n",
      "50000/50000 [==============================] - 15s 305us/step - loss: 0.9276 - acc: 0.6683 - val_loss: 1.4523 - val_acc: 0.5244\n",
      "Epoch 26/100\n",
      "50000/50000 [==============================] - 16s 314us/step - loss: 0.8971 - acc: 0.6777 - val_loss: 1.5040 - val_acc: 0.5064\n",
      "Epoch 27/100\n",
      "50000/50000 [==============================] - 15s 309us/step - loss: 0.8839 - acc: 0.6826 - val_loss: 1.5080 - val_acc: 0.5127\n",
      "Epoch 28/100\n",
      "50000/50000 [==============================] - 15s 307us/step - loss: 0.8580 - acc: 0.6905 - val_loss: 1.5042 - val_acc: 0.5187\n",
      "Epoch 29/100\n",
      "50000/50000 [==============================] - 15s 302us/step - loss: 0.8254 - acc: 0.7034 - val_loss: 1.5289 - val_acc: 0.5217\n",
      "Epoch 30/100\n",
      "50000/50000 [==============================] - 16s 315us/step - loss: 0.8074 - acc: 0.7097 - val_loss: 1.5615 - val_acc: 0.5236\n",
      "Epoch 31/100\n",
      "50000/50000 [==============================] - 15s 302us/step - loss: 0.7927 - acc: 0.7144 - val_loss: 1.6263 - val_acc: 0.5187\n",
      "Epoch 32/100\n",
      "50000/50000 [==============================] - 15s 306us/step - loss: 0.7434 - acc: 0.7312 - val_loss: 1.6186 - val_acc: 0.5249\n",
      "Epoch 33/100\n",
      "50000/50000 [==============================] - 15s 303us/step - loss: 0.7312 - acc: 0.7379 - val_loss: 1.7312 - val_acc: 0.4903\n",
      "Epoch 34/100\n",
      "50000/50000 [==============================] - 16s 311us/step - loss: 0.7232 - acc: 0.7416 - val_loss: 1.7031 - val_acc: 0.5161\n",
      "Epoch 35/100\n",
      "50000/50000 [==============================] - 15s 307us/step - loss: 0.6803 - acc: 0.7568 - val_loss: 1.7441 - val_acc: 0.5119\n",
      "Epoch 36/100\n",
      "50000/50000 [==============================] - 16s 310us/step - loss: 0.6826 - acc: 0.7543 - val_loss: 1.7443 - val_acc: 0.5168\n",
      "Epoch 37/100\n",
      "50000/50000 [==============================] - 15s 309us/step - loss: 0.6350 - acc: 0.7715 - val_loss: 1.8224 - val_acc: 0.5081\n",
      "Epoch 38/100\n",
      "50000/50000 [==============================] - 16s 312us/step - loss: 0.6335 - acc: 0.7714 - val_loss: 1.8442 - val_acc: 0.5063\n",
      "Epoch 39/100\n",
      "50000/50000 [==============================] - 15s 310us/step - loss: 0.6052 - acc: 0.7822 - val_loss: 1.8791 - val_acc: 0.5106\n",
      "Epoch 40/100\n",
      "50000/50000 [==============================] - 15s 307us/step - loss: 0.5822 - acc: 0.7905 - val_loss: 1.9626 - val_acc: 0.5070\n",
      "Epoch 41/100\n",
      "50000/50000 [==============================] - 15s 306us/step - loss: 0.5588 - acc: 0.7981 - val_loss: 1.9648 - val_acc: 0.5127\n",
      "Epoch 42/100\n",
      "50000/50000 [==============================] - 16s 313us/step - loss: 0.5730 - acc: 0.7942 - val_loss: 2.0302 - val_acc: 0.5037\n",
      "Epoch 43/100\n",
      "50000/50000 [==============================] - 16s 310us/step - loss: 0.5298 - acc: 0.8104 - val_loss: 2.0906 - val_acc: 0.5058\n",
      "Epoch 44/100\n",
      "50000/50000 [==============================] - 16s 325us/step - loss: 0.5220 - acc: 0.8108 - val_loss: 2.0744 - val_acc: 0.5101\n",
      "Epoch 45/100\n",
      "50000/50000 [==============================] - 17s 345us/step - loss: 0.5215 - acc: 0.8116 - val_loss: 2.1202 - val_acc: 0.5025\n",
      "Epoch 46/100\n",
      "50000/50000 [==============================] - 16s 312us/step - loss: 0.4863 - acc: 0.8245 - val_loss: 2.1551 - val_acc: 0.5013\n",
      "Epoch 47/100\n",
      "50000/50000 [==============================] - 15s 304us/step - loss: 0.4886 - acc: 0.8235 - val_loss: 2.1666 - val_acc: 0.5021\n",
      "Epoch 48/100\n",
      "50000/50000 [==============================] - 15s 303us/step - loss: 0.4619 - acc: 0.8344 - val_loss: 2.2341 - val_acc: 0.5097\n",
      "Epoch 49/100\n",
      "50000/50000 [==============================] - 15s 299us/step - loss: 0.4308 - acc: 0.8446 - val_loss: 2.3498 - val_acc: 0.4933\n",
      "Epoch 50/100\n",
      "50000/50000 [==============================] - 15s 305us/step - loss: 0.4299 - acc: 0.8445 - val_loss: 2.3231 - val_acc: 0.5044\n",
      "Epoch 51/100\n",
      "50000/50000 [==============================] - 15s 300us/step - loss: 0.4496 - acc: 0.8379 - val_loss: 2.3443 - val_acc: 0.5090\n",
      "Epoch 52/100\n",
      "50000/50000 [==============================] - 15s 293us/step - loss: 0.4189 - acc: 0.8482 - val_loss: 2.4024 - val_acc: 0.5004\n",
      "Epoch 53/100\n",
      "50000/50000 [==============================] - 15s 294us/step - loss: 0.3948 - acc: 0.8593 - val_loss: 2.5017 - val_acc: 0.4997\n",
      "Epoch 54/100\n",
      "50000/50000 [==============================] - 15s 300us/step - loss: 0.3891 - acc: 0.8579 - val_loss: 2.4309 - val_acc: 0.4932\n",
      "Epoch 55/100\n",
      "50000/50000 [==============================] - 15s 294us/step - loss: 0.3733 - acc: 0.8649 - val_loss: 2.5485 - val_acc: 0.5045\n",
      "Epoch 56/100\n",
      "50000/50000 [==============================] - 15s 293us/step - loss: 0.3730 - acc: 0.8670 - val_loss: 2.6718 - val_acc: 0.4981\n",
      "Epoch 57/100\n",
      "50000/50000 [==============================] - 15s 293us/step - loss: 0.3545 - acc: 0.8724 - val_loss: 2.7177 - val_acc: 0.5062\n",
      "Epoch 58/100\n",
      "50000/50000 [==============================] - 16s 312us/step - loss: 0.3627 - acc: 0.8680 - val_loss: 2.6640 - val_acc: 0.5017\n"
     ]
    },
    {
     "name": "stdout",
     "output_type": "stream",
     "text": [
      "Epoch 59/100\n",
      "50000/50000 [==============================] - 15s 290us/step - loss: 0.3405 - acc: 0.8777 - val_loss: 2.6751 - val_acc: 0.5033\n",
      "Epoch 60/100\n",
      "50000/50000 [==============================] - 14s 286us/step - loss: 0.3536 - acc: 0.8727 - val_loss: 2.6947 - val_acc: 0.5035\n",
      "Epoch 61/100\n",
      "50000/50000 [==============================] - 14s 288us/step - loss: 0.3560 - acc: 0.8726 - val_loss: 2.7972 - val_acc: 0.4940\n",
      "Epoch 62/100\n",
      "50000/50000 [==============================] - 15s 293us/step - loss: 0.3231 - acc: 0.8844 - val_loss: 2.8082 - val_acc: 0.4982\n",
      "Epoch 63/100\n",
      "50000/50000 [==============================] - 14s 288us/step - loss: 0.3487 - acc: 0.8731 - val_loss: 2.8354 - val_acc: 0.5000\n",
      "Epoch 64/100\n",
      "50000/50000 [==============================] - 14s 287us/step - loss: 0.3242 - acc: 0.8831 - val_loss: 2.8386 - val_acc: 0.5016\n",
      "Epoch 65/100\n",
      "50000/50000 [==============================] - 16s 326us/step - loss: 0.2866 - acc: 0.8976 - val_loss: 2.9496 - val_acc: 0.4972\n",
      "Epoch 66/100\n",
      "50000/50000 [==============================] - 15s 309us/step - loss: 0.2833 - acc: 0.8976 - val_loss: 3.0207 - val_acc: 0.4991\n",
      "Epoch 67/100\n",
      "50000/50000 [==============================] - 15s 296us/step - loss: 0.2991 - acc: 0.8924 - val_loss: 2.9585 - val_acc: 0.4993\n",
      "Epoch 68/100\n",
      "50000/50000 [==============================] - 14s 290us/step - loss: 0.3026 - acc: 0.8892 - val_loss: 2.9758 - val_acc: 0.5030\n",
      "Epoch 69/100\n",
      "50000/50000 [==============================] - 15s 292us/step - loss: 0.2546 - acc: 0.9079 - val_loss: 3.0256 - val_acc: 0.5007\n",
      "Epoch 70/100\n",
      "50000/50000 [==============================] - 15s 296us/step - loss: 0.2684 - acc: 0.9036 - val_loss: 3.0932 - val_acc: 0.4983\n",
      "Epoch 71/100\n",
      "50000/50000 [==============================] - 15s 291us/step - loss: 0.2820 - acc: 0.8988 - val_loss: 3.1286 - val_acc: 0.5037\n",
      "Epoch 72/100\n",
      "50000/50000 [==============================] - 15s 293us/step - loss: 0.3091 - acc: 0.8887 - val_loss: 3.0789 - val_acc: 0.5026\n",
      "Epoch 73/100\n",
      "50000/50000 [==============================] - 15s 292us/step - loss: 0.2955 - acc: 0.8944 - val_loss: 3.1232 - val_acc: 0.4974\n",
      "Epoch 74/100\n",
      "50000/50000 [==============================] - 16s 313us/step - loss: 0.2959 - acc: 0.8947 - val_loss: 3.1613 - val_acc: 0.5064\n",
      "Epoch 75/100\n",
      "50000/50000 [==============================] - 15s 293us/step - loss: 0.2779 - acc: 0.9004 - val_loss: 3.3165 - val_acc: 0.4888\n",
      "Epoch 76/100\n",
      "50000/50000 [==============================] - 15s 305us/step - loss: 0.2451 - acc: 0.9115 - val_loss: 3.1928 - val_acc: 0.4981\n",
      "Epoch 77/100\n",
      "50000/50000 [==============================] - 16s 324us/step - loss: 0.2279 - acc: 0.9176 - val_loss: 3.3014 - val_acc: 0.4977\n",
      "Epoch 78/100\n",
      "50000/50000 [==============================] - 16s 320us/step - loss: 0.2485 - acc: 0.9119 - val_loss: 3.4615 - val_acc: 0.4901\n",
      "Epoch 79/100\n",
      "50000/50000 [==============================] - 15s 302us/step - loss: 0.2416 - acc: 0.9135 - val_loss: 3.2809 - val_acc: 0.4934\n",
      "Epoch 80/100\n",
      "50000/50000 [==============================] - 16s 311us/step - loss: 0.2330 - acc: 0.9162 - val_loss: 3.3715 - val_acc: 0.4955\n",
      "Epoch 81/100\n",
      "50000/50000 [==============================] - 15s 292us/step - loss: 0.2693 - acc: 0.9046 - val_loss: 3.5023 - val_acc: 0.4936\n",
      "Epoch 82/100\n",
      "50000/50000 [==============================] - 15s 304us/step - loss: 0.2200 - acc: 0.9221 - val_loss: 3.4152 - val_acc: 0.4968\n",
      "Epoch 83/100\n",
      "50000/50000 [==============================] - 16s 320us/step - loss: 0.2159 - acc: 0.9228 - val_loss: 3.5856 - val_acc: 0.4886\n",
      "Epoch 84/100\n",
      "50000/50000 [==============================] - 15s 296us/step - loss: 0.2458 - acc: 0.9118 - val_loss: 3.4434 - val_acc: 0.4970\n",
      "Epoch 85/100\n",
      "50000/50000 [==============================] - 15s 293us/step - loss: 0.2296 - acc: 0.9185 - val_loss: 3.5005 - val_acc: 0.5072\n",
      "Epoch 86/100\n",
      "50000/50000 [==============================] - 15s 297us/step - loss: 0.2215 - acc: 0.9206 - val_loss: 3.4620 - val_acc: 0.4932\n",
      "Epoch 87/100\n",
      "50000/50000 [==============================] - 15s 293us/step - loss: 0.1925 - acc: 0.9326 - val_loss: 3.6693 - val_acc: 0.4923\n",
      "Epoch 88/100\n",
      "50000/50000 [==============================] - 15s 291us/step - loss: 0.2366 - acc: 0.9159 - val_loss: 3.5106 - val_acc: 0.4929\n",
      "Epoch 89/100\n",
      "50000/50000 [==============================] - 15s 291us/step - loss: 0.2758 - acc: 0.9038 - val_loss: 3.5285 - val_acc: 0.4821\n",
      "Epoch 90/100\n",
      "50000/50000 [==============================] - 15s 300us/step - loss: 0.2226 - acc: 0.9213 - val_loss: 3.5838 - val_acc: 0.4896\n",
      "Epoch 91/100\n",
      "50000/50000 [==============================] - 15s 295us/step - loss: 0.2211 - acc: 0.9227 - val_loss: 3.6155 - val_acc: 0.4935\n",
      "Epoch 92/100\n",
      "50000/50000 [==============================] - 15s 293us/step - loss: 0.1739 - acc: 0.9373 - val_loss: 3.7139 - val_acc: 0.4900\n",
      "Epoch 93/100\n",
      "50000/50000 [==============================] - 15s 292us/step - loss: 0.2353 - acc: 0.9173 - val_loss: 3.6036 - val_acc: 0.5022\n",
      "Epoch 94/100\n",
      "50000/50000 [==============================] - 15s 300us/step - loss: 0.2025 - acc: 0.9286 - val_loss: 3.6247 - val_acc: 0.4968\n",
      "Epoch 95/100\n",
      "50000/50000 [==============================] - 15s 297us/step - loss: 0.1578 - acc: 0.9451 - val_loss: 3.7629 - val_acc: 0.4980\n",
      "Epoch 96/100\n",
      "50000/50000 [==============================] - 15s 292us/step - loss: 0.2040 - acc: 0.9289 - val_loss: 3.6259 - val_acc: 0.4990\n",
      "Epoch 97/100\n",
      "50000/50000 [==============================] - 15s 293us/step - loss: 0.2183 - acc: 0.9244 - val_loss: 3.7876 - val_acc: 0.4870\n",
      "Epoch 98/100\n",
      "50000/50000 [==============================] - 15s 302us/step - loss: 0.2786 - acc: 0.9036 - val_loss: 3.6680 - val_acc: 0.4948\n",
      "Epoch 99/100\n",
      "50000/50000 [==============================] - 15s 293us/step - loss: 0.2049 - acc: 0.9273 - val_loss: 3.8113 - val_acc: 0.4981\n",
      "Epoch 100/100\n",
      "50000/50000 [==============================] - 16s 312us/step - loss: 0.1611 - acc: 0.9437 - val_loss: 3.7701 - val_acc: 0.4994\n"
     ]
    },
    {
     "data": {
      "text/plain": [
       "<keras.callbacks.History at 0x13ec7224c18>"
      ]
     },
     "execution_count": 11,
     "metadata": {},
     "output_type": "execute_result"
    }
   ],
   "source": [
    "model.fit(x_train, y_train, \n",
    "          epochs=EPOCHS, \n",
    "          batch_size=BATCH_SIZE, \n",
    "          validation_data=(x_test, y_test), \n",
    "          shuffle=True)"
   ]
  },
  {
   "cell_type": "code",
   "execution_count": 13,
   "metadata": {},
   "outputs": [
    {
     "data": {
      "image/png": "[encoded data removed]",
      "text/plain": [
       "<Figure size 432x288 with 1 Axes>"
      ]
     },
     "metadata": {
      "needs_background": "light"
     },
     "output_type": "display_data"
    },
    {
     "data": {
      "image/png": "[encoded data removed]",
      "text/plain": [
       "<Figure size 432x288 with 1 Axes>"
      ]
     },
     "metadata": {
      "needs_background": "light"
     },
     "output_type": "display_data"
    }
   ],
   "source": [
    "\n",
    "# 訓練模型並檢視驗證集的結果\n",
    "import matplotlib.pyplot as plt\n",
    "\n",
    "\n",
    "train_loss = model.history.history[\"loss\"]\n",
    "valid_loss = model.history.history[\"val_loss\"]\n",
    "\n",
    "train_acc = model.history.history[\"acc\"]\n",
    "valid_acc = model.history.history[\"val_acc\"]\n",
    "\n",
    "plt.plot(range(len(train_loss)), train_loss, label=\"train loss\")\n",
    "plt.plot(range(len(valid_loss)), valid_loss, label=\"valid loss\")\n",
    "plt.legend()\n",
    "plt.title(\"Loss\")\n",
    "plt.show()\n",
    "\n",
    "plt.plot(range(len(train_acc)), train_acc, label=\"train accuracy\")\n",
    "plt.plot(range(len(valid_acc)), valid_acc, label=\"valid accuracy\")\n",
    "plt.legend()\n",
    "plt.title(\"Accuracy\")\n",
    "plt.show()"
   ]
  },
  {
   "cell_type": "code",
   "execution_count": null,
   "metadata": {},
   "outputs": [],
   "source": []
  }
 ],
 "metadata": {
  "kernelspec": {
   "display_name": "Python 3",
   "language": "python",
   "name": "python3"
  },
  "language_info": {
   "codemirror_mode": {
    "name": "ipython",
    "version": 3
   },
   "file_extension": ".py",
   "mimetype": "text/x-python",
   "name": "python",
   "nbconvert_exporter": "python",
   "pygments_lexer": "ipython3",
   "version": "3.7.3"
  }
 },
 "nbformat": 4,
 "nbformat_minor": 2
}
