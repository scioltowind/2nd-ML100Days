{
 "cells": [
  {
   "cell_type": "markdown",
   "metadata": {},
   "source": [
    "## Work\n",
    "1. 請嘗試寫一個 callback 用來記錄各類別在訓練過程中，對驗證集的 True Positive 與 True Negative"
   ]
  },
  {
   "cell_type": "code",
   "execution_count": 1,
   "metadata": {},
   "outputs": [
    {
     "name": "stderr",
     "output_type": "stream",
     "text": [
      "Using TensorFlow backend.\n"
     ]
    }
   ],
   "source": [
    "import os\n",
    "import keras\n",
    "\n",
    "# Disable GPU\n",
    "os.environ[\"CUDA_VISIBLE_DEVICES\"] = \"\""
   ]
  },
  {
   "cell_type": "code",
   "execution_count": 2,
   "metadata": {},
   "outputs": [],
   "source": [
    "train, test = keras.datasets.cifar10.load_data()"
   ]
  },
  {
   "cell_type": "code",
   "execution_count": 3,
   "metadata": {},
   "outputs": [],
   "source": [
    "## 資料前處理\n",
    "def preproc_x(x, flatten=True):\n",
    "    x = x / 255.\n",
    "    if flatten:\n",
    "        x = x.reshape((len(x), -1))\n",
    "    return x\n",
    "\n",
    "def preproc_y(y, num_classes=10):\n",
    "    if y.shape[-1] == 1:\n",
    "        y = keras.utils.to_categorical(y, num_classes)\n",
    "    return y    "
   ]
  },
  {
   "cell_type": "code",
   "execution_count": 4,
   "metadata": {},
   "outputs": [],
   "source": [
    "x_train, y_train = train\n",
    "x_test, y_test = test\n",
    "\n",
    "# Preproc the inputs\n",
    "x_train = preproc_x(x_train)\n",
    "x_test = preproc_x(x_test)\n",
    "\n",
    "# Preprc the outputs\n",
    "y_train = preproc_y(y_train)\n",
    "y_test = preproc_y(y_test)"
   ]
  },
  {
   "cell_type": "code",
   "execution_count": 5,
   "metadata": {},
   "outputs": [],
   "source": [
    "from keras.layers import BatchNormalization\n",
    "def build_mlp(input_shape, output_units=10, num_neurons=[256, 256, 256]):\n",
    "    \"\"\"Code Here\n",
    "    建立你的神經網路\"\"\"\n",
    "    input_layer = keras.layers.Input(input_shape)\n",
    "    \n",
    "    for i, n_units in enumerate(num_neurons):\n",
    "        if i == 0:\n",
    "            x = keras.layers.Dense(units=n_units, \n",
    "                                   activation=\"relu\", \n",
    "                                   name=\"hidden_layer\"+str(i+1))(input_layer)\n",
    "            x = BatchNormalization()(x)\n",
    "        else:\n",
    "            x = keras.layers.Dense(units=n_units, \n",
    "                                   activation=\"relu\", \n",
    "                                   name=\"hidden_layer\"+str(i+1))(x)\n",
    "            x = BatchNormalization()(x)\n",
    "    \n",
    "    out = keras.layers.Dense(units=output_units, activation=\"softmax\", name=\"output\")(x)\n",
    "    \n",
    "    model = keras.models.Model(inputs=[input_layer], outputs=[out])    \n",
    "    return model"
   ]
  },
  {
   "cell_type": "code",
   "execution_count": 6,
   "metadata": {},
   "outputs": [],
   "source": [
    "## 超參數設定\n",
    "LEARNING_RATE = 1e-3\n",
    "EPOCHS = 25\n",
    "BATCH_SIZE = 1024\n",
    "MOMENTUM = 0.95"
   ]
  },
  {
   "cell_type": "code",
   "execution_count": 10,
   "metadata": {},
   "outputs": [],
   "source": [
    "# 載入 Callbacks\n",
    "from keras.callbacks import Callback\n",
    "import numpy as np\n",
    "\"\"\"Code Here\n",
    "    撰寫一個紀錄 ture positive 與 true negative 數量的 callbacks  \n",
    "\"\"\"\n",
    "# Record_fp_tp\n",
    "class Record_tp_tn(Callback):\n",
    "\n",
    "    def on_train_begin(self, epoch, logs = {}):\n",
    "        logs = logs or {}\n",
    "        record_items = [\"val_auc\", \"val_f1sc\", \"val_fp\", \"val_fn\", \"val_tp\", \"val_tn\"]\n",
    "        for i in record_items:\n",
    "            if i not in self.params['metrics']:\n",
    "                self.params['metrics'].append(i)\n",
    "    \n",
    "    def on_epoch_end(self, epoch, logs = {}, thres=0.5):\n",
    "        logs = logs or {}\n",
    "        y_true = self.validation_data[1].argmax(axis = 1)\n",
    "        y_pred = self.model.predict(self.validation_data[0])\n",
    "        y_pred = (y_pred[:, 1] >= thres) * 1\n",
    "        true_positives = np.sum(np.logical_and(y_pred == 1, y_true == 1))\n",
    "        true_negatives = np.sum(np.logical_and(y_pred == 0, y_true == 0))\n",
    "        logs[\"true_positives\"] = true_positives\n",
    "        logs[\"true_negatives\"] = true_negatives\n",
    "        \n",
    "rec_tptn = Record_tp_tn()"
   ]
  },
  {
   "cell_type": "code",
   "execution_count": 12,
   "metadata": {
    "scrolled": true
   },
   "outputs": [
    {
     "name": "stdout",
     "output_type": "stream",
     "text": [
      "_________________________________________________________________\n",
      "Layer (type)                 Output Shape              Param #   \n",
      "=================================================================\n",
      "input_3 (InputLayer)         (None, 3072)              0         \n",
      "_________________________________________________________________\n",
      "hidden_layer1 (Dense)        (None, 256)               786688    \n",
      "_________________________________________________________________\n",
      "batch_normalization_7 (Batch (None, 256)               1024      \n",
      "_________________________________________________________________\n",
      "hidden_layer2 (Dense)        (None, 256)               65792     \n",
      "_________________________________________________________________\n",
      "batch_normalization_8 (Batch (None, 256)               1024      \n",
      "_________________________________________________________________\n",
      "hidden_layer3 (Dense)        (None, 256)               65792     \n",
      "_________________________________________________________________\n",
      "batch_normalization_9 (Batch (None, 256)               1024      \n",
      "_________________________________________________________________\n",
      "output (Dense)               (None, 10)                2570      \n",
      "=================================================================\n",
      "Total params: 923,914\n",
      "Trainable params: 922,378\n",
      "Non-trainable params: 1,536\n",
      "_________________________________________________________________\n",
      "Train on 50000 samples, validate on 10000 samples\n",
      "Epoch 1/25\n",
      "50000/50000 [==============================] - 45s 907us/step - loss: 2.2241 - acc: 0.2642 - val_loss: 2.0483 - val_acc: 0.3274\n",
      "Epoch 2/25\n",
      "50000/50000 [==============================] - 16s 329us/step - loss: 1.7622 - acc: 0.3868 - val_loss: 1.8264 - val_acc: 0.3684\n",
      "Epoch 3/25\n",
      "50000/50000 [==============================] - 11s 228us/step - loss: 1.6425 - acc: 0.4283 - val_loss: 1.7126 - val_acc: 0.4032\n",
      "Epoch 4/25\n",
      "50000/50000 [==============================] - 7s 145us/step - loss: 1.5701 - acc: 0.4497 - val_loss: 1.6527 - val_acc: 0.4277\n",
      "Epoch 5/25\n",
      "50000/50000 [==============================] - 7s 139us/step - loss: 1.5191 - acc: 0.4680 - val_loss: 1.6005 - val_acc: 0.4396\n",
      "Epoch 6/25\n",
      "50000/50000 [==============================] - 7s 137us/step - loss: 1.4741 - acc: 0.4839 - val_loss: 1.5752 - val_acc: 0.4501\n",
      "Epoch 7/25\n",
      "50000/50000 [==============================] - 14s 286us/step - loss: 1.4372 - acc: 0.4956 - val_loss: 1.5546 - val_acc: 0.4538\n",
      "Epoch 8/25\n",
      "50000/50000 [==============================] - 29s 586us/step - loss: 1.4058 - acc: 0.5069 - val_loss: 1.5466 - val_acc: 0.4562\n",
      "Epoch 9/25\n",
      "50000/50000 [==============================] - 21s 413us/step - loss: 1.3761 - acc: 0.5166 - val_loss: 1.5201 - val_acc: 0.4665\n",
      "Epoch 10/25\n",
      "50000/50000 [==============================] - 11s 229us/step - loss: 1.3495 - acc: 0.5292 - val_loss: 1.5084 - val_acc: 0.4695\n",
      "Epoch 11/25\n",
      "50000/50000 [==============================] - 13s 267us/step - loss: 1.3230 - acc: 0.5370 - val_loss: 1.5003 - val_acc: 0.4746\n",
      "Epoch 12/25\n",
      "50000/50000 [==============================] - 9s 175us/step - loss: 1.2992 - acc: 0.5472 - val_loss: 1.4877 - val_acc: 0.4808\n",
      "Epoch 13/25\n",
      "50000/50000 [==============================] - 8s 168us/step - loss: 1.2757 - acc: 0.5545 - val_loss: 1.4700 - val_acc: 0.4834\n",
      "Epoch 14/25\n",
      "50000/50000 [==============================] - 7s 149us/step - loss: 1.2540 - acc: 0.5634 - val_loss: 1.4688 - val_acc: 0.4834\n",
      "Epoch 15/25\n",
      "50000/50000 [==============================] - 8s 151us/step - loss: 1.2319 - acc: 0.5715 - val_loss: 1.4562 - val_acc: 0.4917\n",
      "Epoch 16/25\n",
      "50000/50000 [==============================] - 7s 146us/step - loss: 1.2123 - acc: 0.5797 - val_loss: 1.4608 - val_acc: 0.4883\n",
      "Epoch 17/25\n",
      "50000/50000 [==============================] - 7s 145us/step - loss: 1.1934 - acc: 0.5865 - val_loss: 1.4476 - val_acc: 0.4966\n",
      "Epoch 18/25\n",
      "50000/50000 [==============================] - 7s 145us/step - loss: 1.1742 - acc: 0.5948 - val_loss: 1.4539 - val_acc: 0.4959\n",
      "Epoch 19/25\n",
      "50000/50000 [==============================] - 7s 137us/step - loss: 1.1556 - acc: 0.5984 - val_loss: 1.4556 - val_acc: 0.4944\n",
      "Epoch 20/25\n",
      "50000/50000 [==============================] - 9s 175us/step - loss: 1.1355 - acc: 0.6071 - val_loss: 1.4408 - val_acc: 0.5021\n",
      "Epoch 21/25\n",
      "50000/50000 [==============================] - 7s 139us/step - loss: 1.1184 - acc: 0.6160 - val_loss: 1.4613 - val_acc: 0.4955\n",
      "Epoch 22/25\n",
      "50000/50000 [==============================] - 8s 163us/step - loss: 1.1034 - acc: 0.6208 - val_loss: 1.4498 - val_acc: 0.4948\n",
      "Epoch 23/25\n",
      "50000/50000 [==============================] - 8s 156us/step - loss: 1.0842 - acc: 0.6282 - val_loss: 1.4475 - val_acc: 0.4956\n",
      "Epoch 24/25\n",
      "50000/50000 [==============================] - 8s 168us/step - loss: 1.0683 - acc: 0.6336 - val_loss: 1.4342 - val_acc: 0.5032\n",
      "Epoch 25/25\n",
      "50000/50000 [==============================] - 8s 152us/step - loss: 1.0518 - acc: 0.6406 - val_loss: 1.4415 - val_acc: 0.5019\n"
     ]
    }
   ],
   "source": [
    "model = build_mlp(input_shape=x_train.shape[1:])\n",
    "model.summary()\n",
    "optimizer = keras.optimizers.SGD(lr=LEARNING_RATE, nesterov=True, momentum=MOMENTUM)\n",
    "model.compile(loss=\"categorical_crossentropy\", metrics=[\"accuracy\"], optimizer=optimizer)\n",
    "\n",
    "\"\"\"Code Here\n",
    "將 callbacks 放入模型訓練流程中\n",
    "\"\"\"\n",
    "model.fit(x_train, y_train, \n",
    "          epochs=EPOCHS, \n",
    "          batch_size=BATCH_SIZE, \n",
    "          validation_data=(x_test, y_test), \n",
    "          shuffle=True,\n",
    "          callbacks=[rec_tptn]\n",
    "         )\n",
    "\n",
    "# Collect results\n",
    "train_loss = model.history.history[\"loss\"]\n",
    "valid_loss = model.history.history[\"val_loss\"]\n",
    "train_acc = model.history.history[\"acc\"]\n",
    "valid_acc = model.history.history[\"val_acc\"]\n",
    "\n",
    "\"\"\"Code Here\n",
    "將 tp/tn 從訓練完的模型中取出\n",
    "\"\"\"\n",
    "valid_tp = model.history.history['true_positives']\n",
    "valid_tn = model.history.history['true_negatives']"
   ]
  },
  {
   "cell_type": "code",
   "execution_count": 13,
   "metadata": {},
   "outputs": [
    {
     "data": {
      "image/png": "[encoded data removed]",
      "text/plain": [
       "<Figure size 432x288 with 1 Axes>"
      ]
     },
     "metadata": {
      "needs_background": "light"
     },
     "output_type": "display_data"
    },
    {
     "data": {
      "image/png": "[encoded data removed]",
      "text/plain": [
       "<Figure size 432x288 with 1 Axes>"
      ]
     },
     "metadata": {
      "needs_background": "light"
     },
     "output_type": "display_data"
    },
    {
     "data": {
      "image/png": "[encoded data removed]",
      "text/plain": [
       "<Figure size 432x288 with 1 Axes>"
      ]
     },
     "metadata": {
      "needs_background": "light"
     },
     "output_type": "display_data"
    }
   ],
   "source": [
    "import matplotlib.pyplot as plt\n",
    "%matplotlib inline\n",
    "\n",
    "plt.plot(range(len(train_loss)), train_loss, label=\"train loss\")\n",
    "plt.plot(range(len(valid_loss)), valid_loss, label=\"valid loss\")\n",
    "plt.legend()\n",
    "plt.title(\"Loss\")\n",
    "plt.show()\n",
    "\n",
    "plt.plot(range(len(train_acc)), train_acc, label=\"train accuracy\")\n",
    "plt.plot(range(len(valid_acc)), valid_acc, label=\"valid accuracy\")\n",
    "plt.legend()\n",
    "plt.title(\"Accuracy\")\n",
    "plt.show()\n",
    "\n",
    "plt.plot(range(len(valid_tp)), valid_tp, label=\"valid tp\", color=\"navy\")\n",
    "plt.plot(range(len(valid_tn)), valid_tn, label=\"valid tn\", color=\"red\")\n",
    "plt.legend()\n",
    "plt.title(\"True positives and True Negatives\")\n",
    "plt.show()\n"
   ]
  },
  {
   "cell_type": "code",
   "execution_count": null,
   "metadata": {},
   "outputs": [],
   "source": []
  }
 ],
 "metadata": {
  "kernelspec": {
   "display_name": "Python 3",
   "language": "python",
   "name": "python3"
  },
  "language_info": {
   "codemirror_mode": {
    "name": "ipython",
    "version": 3
   },
   "file_extension": ".py",
   "mimetype": "text/x-python",
   "name": "python",
   "nbconvert_exporter": "python",
   "pygments_lexer": "ipython3",
   "version": "3.7.3"
  }
 },
 "nbformat": 4,
 "nbformat_minor": 2
}
